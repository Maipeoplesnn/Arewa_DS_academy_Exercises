{
 "cells": [
  {
   "cell_type": "markdown",
   "metadata": {},
   "source": [
    "1. Check the python version you are using"
   ]
  },
  {
   "cell_type": "code",
   "execution_count": null,
   "metadata": {},
   "outputs": [],
   "source": [
    "!python --version"
   ]
  },
  {
   "cell_type": "markdown",
   "metadata": {},
   "source": [
    "2. Open the python interactive shell and do the following operations.    \n",
    "The operands are 3 and 4"
   ]
  },
  {
   "cell_type": "code",
   "execution_count": null,
   "metadata": {},
   "outputs": [],
   "source": [
    "print(3 + 2)   # output: 5\n",
    "print(3 - 2)   # output: 1\n",
    "print(3 * 2)   # output: 6\n",
    "print(3 / 2)   # output: 1.5\n",
    "print(3 ** 2)  # output: 9\n",
    "print(3 % 2)   # output: 1\n",
    "print(3 // 2)  # output: 1"
   ]
  },
  {
   "cell_type": "markdown",
   "metadata": {},
   "source": [
    "3. Write strings on the python interactive shell. The strings are the following:          \n",
    "    1. Your name     \n",
    "    2. Your family name      \n",
    "    3. Your country      \n",
    "    4. I am enjoying 30 days of python       "
   ]
  },
  {
   "cell_type": "code",
   "execution_count": null,
   "metadata": {},
   "outputs": [],
   "source": [
    "print(\"Abdullahi Maijamaa Yunusa\")\n",
    "print(\"Maijamaa\")\n",
    "print(\"Nigeria\")\n",
    "print(\"I am enjoying 30 days of python\")"
   ]
  },
  {
   "cell_type": "markdown",
   "metadata": {},
   "source": [
    "4. Check the data types of the following data:      \n",
    "   1. 10       \n",
    "   2. 9.8     \n",
    "   3. 3.14        \n",
    "   4. 4 - 4j      \n",
    "   5. ['Asabeneh', 'Python', 'Finland']       \n",
    "   6. Your name       \n",
    "   7. Your family name        \n",
    "   8. Your country        "
   ]
  },
  {
   "cell_type": "code",
   "execution_count": null,
   "metadata": {},
   "outputs": [],
   "source": [
    "print(type(10))\n",
    "print(type(9.8))\n",
    "print(type(3.14))\n",
    "print(type(4 - 4j))\n",
    "print(type(['Asabeneh', 'Python', 'Finland']))\n",
    "print(type(\"Abdullahi Maijamaa Yunusa\"))\n",
    "print(type(\"Maijamaa\"))\n",
    "print(type(\"Nigeria\"))"
   ]
  }
 ],
 "metadata": {
  "kernelspec": {
   "display_name": "Python 3",
   "language": "python",
   "name": "python3"
  },
  "language_info": {
   "codemirror_mode": {
    "name": "ipython",
    "version": 3
   },
   "file_extension": ".py",
   "mimetype": "text/x-python",
   "name": "python",
   "nbconvert_exporter": "python",
   "pygments_lexer": "ipython3",
   "version": "3.12.4"
  }
 },
 "nbformat": 4,
 "nbformat_minor": 2
}
